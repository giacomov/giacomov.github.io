{
 "cells": [
  {
   "cell_type": "markdown",
   "metadata": {
    "deletable": true,
    "editable": true
   },
   "source": [
    "<h1 id=\"tocheading\">Table of Contents</h1>\n",
    "<div id=\"toc\"></div>\n",
    "\n",
    "# Multiple hypothesis testing, or \"the more you look the less you find\"\n",
    "\n",
    "In this post I study different methods of correcting for multiple hypothesis testing, which occurs often in practice when searching for anomalies in multiple datasets or for example when making catalogs in Astronomy.\n",
    "\n",
    "Let's start from the basics and illustrate what does it mean to have multiple tests."
   ]
  },
  {
   "cell_type": "markdown",
   "metadata": {
    "deletable": true,
    "editable": true
   },
   "source": [
    "> NOTE: this notebook is available for download in my [GitHub repository](https://github.com/giacomov/giacomov.github.io/tree/master/notebooks). If you have suggestion/edits, feel free to open an issue or send a pull request there. _If you are running this notebook_, first you need to execute the last cell, which contains the helper code"
   ]
  },
  {
   "cell_type": "markdown",
   "metadata": {
    "deletable": true,
    "editable": true
   },
   "source": [
    "In this post I assume familiarity with some concepts, in particular statistical tests, null vs alternative hypothesis, p-value, type I error and type II errors. If you need a refresher, look in your favorite textbook or on [Wikipedia](https://en.wikipedia.org/wiki/Type_I_and_type_II_errors).\n",
    "\n",
    "Roughly speaking, a statistical test is something capable of either rejecting or not the null hypothesis with a given type I error probability $\\alpha$ (probability of a false positive) and a type II error probability $\\beta$ (probability of a false negative)."
   ]
  },
  {
   "cell_type": "markdown",
   "metadata": {
    "deletable": true,
    "editable": true
   },
   "source": [
    "## Our toy problem\n",
    "\n",
    "Let's consider the problem of determining whether two populations have the same average or not. The null hypothesis is that the average is the same, the alternative is that it is not. \n",
    "\n",
    "Note that you can substitute this problem with any other problem answerable with a statistical test and all the discussion here will still hold (but of course you need to rework the code)."
   ]
  },
  {
   "cell_type": "markdown",
   "metadata": {
    "deletable": true,
    "editable": true
   },
   "source": [
    "## Simple case: one test"
   ]
  },
  {
   "cell_type": "markdown",
   "metadata": {
    "deletable": true,
    "editable": true
   },
   "source": [
    "The test appropriate for the problem at hand is the [Student's T-test](http://195.134.76.37/applets/AppletTtest/Appl_Ttest2.html). Let's write the function that computes the p-value and a function that decides whether the null is rejected or not based on the p-value:"
   ]
  },
  {
   "cell_type": "code",
   "execution_count": 2,
   "metadata": {
    "collapsed": true,
    "deletable": true,
    "editable": true
   },
   "outputs": [],
   "source": [
    "# Let's write so that w1 and w2 can be lists of n\n",
    "# datasets, from 1 to as much as needed\n",
    "def apply_ttest(w1, w2):\n",
    "    \n",
    "    ts, pvalues = scipy.stats.ttest_ind(w1, w2, axis=1)\n",
    "\n",
    "    return np.squeeze(pvalues)\n",
    "\n",
    "# The null is accepted if all the pvalues are larger \n",
    "# than alpha (global null hypothesis, see below)\n",
    "def null_hyp_status(pvalue, alpha):\n",
    "    \n",
    "    return np.all(pvalue > alpha)"
   ]
  },
  {
   "cell_type": "markdown",
   "metadata": {
    "deletable": true,
    "editable": true
   },
   "source": [
    "We now generate 1 dataset with the null hypothesis true, and apply the test. We will use a type I error probability $\\alpha=0.05$:"
   ]
  },
  {
   "cell_type": "code",
   "execution_count": 3,
   "metadata": {
    "collapsed": false,
    "deletable": true,
    "editable": true
   },
   "outputs": [
    {
     "name": "stdout",
     "output_type": "stream",
     "text": [
      "Null hyp. is deemed True\n"
     ]
    }
   ],
   "source": [
    "# Let's get a dataset with 1 group and\n",
    "# the null hypothesis is true\n",
    "w1, w2, ground_truth = generate_dataset(n_datasets=1, \n",
    "                             n_null_true=1)\n",
    "\n",
    "# Let's now apply the test\n",
    "alpha = 0.05\n",
    "pvalue = apply_ttest(w1, w2)\n",
    "\n",
    "print(\"Null hyp. is deemed %s\" % null_hyp_status(pvalue, alpha))"
   ]
  },
  {
   "cell_type": "markdown",
   "metadata": {
    "deletable": true,
    "editable": true
   },
   "source": [
    "The test worked as expected, and didn't reject the null hypothesis (which we know is true). Let's verify that the performance of the test is nominal, i.e., that by repeating a large number of independent realizations of the same experiment we reject by chance the null hypothesis with the nominal type I error probability $\\alpha$:"
   ]
  },
  {
   "cell_type": "code",
   "execution_count": 4,
   "metadata": {
    "collapsed": false,
    "deletable": true,
    "editable": true
   },
   "outputs": [
    {
     "name": "stderr",
     "output_type": "stream",
     "text": [
      "5000 out of 5000 completed (fraction of rejections so far: 0.05)\n"
     ]
    },
    {
     "name": "stdout",
     "output_type": "stream",
     "text": [
      "\n",
      "Measured chance probability of rejecting the null: 0.052 (should be 0.050)\n"
     ]
    }
   ],
   "source": [
    "# Let's perform 5000 independent simulations\n",
    "type_I_error_p = measure_rejection_prob(5000, \n",
    "                                        apply_ttest, \n",
    "                                        null_hyp_status,\n",
    "                                        alpha, \n",
    "                                        n_datasets=1,\n",
    "                                        n_null_true=1)\n",
    "\n",
    "print(\"\\nMeasured chance probability of rejecting the \"\n",
    "      \"null: %.3f (should be %.3f)\" % (type_I_error_p, alpha))"
   ]
  },
  {
   "cell_type": "markdown",
   "metadata": {
    "deletable": true,
    "editable": true
   },
   "source": [
    "ok, it works as expected.\n",
    "\n",
    "## Multiple tests\n",
    "\n",
    "Let's now imagine that we have $m$ pairs of populations, and we want to find out whether one or more pairs have a significant difference between the populations.\n",
    "\n",
    "The null hypothesis here is \"within all pairs, the two populations have the same average\", the alternative one is \"there is at least one pair where the average is different between the two populations\".\n",
    "\n",
    "Can we just apply the test separately to each pair and see if it rejects for at least one? (spoiler: the answer is no! Also, let's neglect the fact that there are other tests designed for this situation, like ANOVA). Let's see:"
   ]
  },
  {
   "cell_type": "code",
   "execution_count": 5,
   "metadata": {
    "collapsed": false,
    "deletable": true,
    "editable": true
   },
   "outputs": [
    {
     "name": "stdout",
     "output_type": "stream",
     "text": [
      "Null hyp. is deemed False\n"
     ]
    }
   ],
   "source": [
    "# Generate m=50 pairs of populations, all with the same\n",
    "# average between the populations (the null hypothesis is true)\n",
    "w1, w2, _ = generate_dataset(n_datasets=50, n_null_true=50)\n",
    "pvalues = apply_ttest(w1, w2)\n",
    "\n",
    "print(\"Null hyp. is deemed %s\" % null_hyp_status(pvalues, alpha))"
   ]
  },
  {
   "cell_type": "markdown",
   "metadata": {
    "deletable": true,
    "editable": true
   },
   "source": [
    "At first this result might come as a suprise. After all, we know that the null hypothesis is true!\n",
    "\n",
    "However, if you recall the definition of Type I error probability, by fixing $\\alpha=0.05$ we are setting up the test so that it will wrongly reject the null with 5% probability. Therefore, by repeating the test 50 times (one for each pair) we had each time a 5% chance of a type I error. The probability of having at least a rejection is hence given by the [Binomial distribution](https://en.wikipedia.org/wiki/Binomial_distribution):"
   ]
  },
  {
   "cell_type": "code",
   "execution_count": 6,
   "metadata": {
    "collapsed": false,
    "deletable": true,
    "editable": true
   },
   "outputs": [
    {
     "name": "stdout",
     "output_type": "stream",
     "text": [
      "The prob. of >= 1 false positives in 50 trials is 0.923\n"
     ]
    }
   ],
   "source": [
    "# probability of having one or more rejections in 50 trials\n",
    "m = 50\n",
    "\n",
    "binomial_distr = scipy.stats.binom(m, alpha)\n",
    "\n",
    "# NOTE: the .sf method gives the probability of obtaining > 1,\n",
    "# while we need >= 1, so we add the pmf at 1\n",
    "prob = binomial_distr.sf(1) + binomial_distr.pmf(1)\n",
    "\n",
    "print(\"The prob. of >= 1 false positives in %i \"\n",
    "      \"trials is %.3f\" % (m, prob))"
   ]
  },
  {
   "cell_type": "markdown",
   "metadata": {
    "deletable": true,
    "editable": true
   },
   "source": [
    "There is over 90% chance to get at least one false positive in our setup. Testing multiple times an hypothesis as part of the same question is called \"multiple testing\" and require some more thoughts.\n",
    "\n",
    "## Bonferroni / Sidak correction\n",
    "\n",
    "Bonferroni (1936) introduced a simple correction for situations like this. The prescription is to substitute $\\alpha$ for each one of the $m$ independent tests within the composite test with a corrected type I error probability given by the Sidak formula $\\alpha^{\\prime} = 1 - (1-\\alpha)^{1/m}$ (which for large $m$ is often approximated with $\\alpha^{\\prime} = \\alpha / m$). \n",
    "\n",
    "> Sometimes in the literature the correction $\\alpha^{\\prime}=\\alpha / m$ is called \"Bonferroni correction\" while the correction $\\alpha^{\\prime} = 1 - (1-\\alpha)^{1/m}$ is called \"Sidak correction\". Here we will use the latter formulation, but use the name interceangably as the difference is very small for all practical purposes\n",
    "\n",
    "The justification for the Sidak formula can be derived very easily and it is a direct consequence of the observation we just did about the Binomial distribution. The probability $\\alpha$ of obtaining 1 or more successes in $m$ trials with probability $\\alpha^{\\prime}$ is given by $1 - B(m, p=\\alpha^{\\prime}, k=0)$, where $B(m, p=\\alpha^{\\prime}, k=0)$ is the probability of obtaining 0 successes given by the Binomial distribution. We have then:\n",
    "\n",
    "$$\n",
    "\\alpha = 1 - \\frac{m!}{k!(m-k)!} \\alpha^{\\prime k} (1 - \\alpha^{\\prime})^{n-k} = 1 - (1 - \\alpha^{\\prime})^{m}\n",
    "$$\n",
    "\n",
    "where we have just substituted $k=0$. Solving for $\\alpha^{\\prime}$ we obtain the type I error probability that we need to use in each of the $m$ tests to obtain a global type I error probability of $\\alpha$, which is the Bonferroni/Sidak correction.\n",
    "\n",
    "> NOTE: we assume independent tests. If there is correlation between the different tests, the methods presented here might or might not apply, you need to look closer at the relevant papers.\n",
    "\n",
    "Let's see if this solves our problem. We just need to change the criterium used to decide whether to reject or not the null, no need to change the computation of the p-values:"
   ]
  },
  {
   "cell_type": "code",
   "execution_count": 7,
   "metadata": {
    "collapsed": false,
    "deletable": true,
    "editable": true
   },
   "outputs": [
    {
     "name": "stdout",
     "output_type": "stream",
     "text": [
      "Null hyp. is deemed True\n"
     ]
    }
   ],
   "source": [
    "# Test if any of the pvalues is lower than alpha',\n",
    "# if the answer yes, the null hyp. is deemed False\n",
    "def null_hyp_status_bonferroni(pvalues, alpha):\n",
    "    \n",
    "    # Number of tests\n",
    "    m = pvalues.shape[0]\n",
    "    \n",
    "    # Bonferroni/Sidak correction\n",
    "    alpha_prime = 1 - (1-alpha)**(1.0/m)\n",
    "    \n",
    "    # Test whether *all* null hypothesis in the subtests are\n",
    "    # true or not\n",
    "    return np.all(pvalues > alpha_prime)\n",
    "\n",
    "w1, w2, _ = generate_dataset(n_datasets=50, n_null_true=50)\n",
    "pvalues = apply_ttest(w1, w2)\n",
    "\n",
    "print(\"Null hyp. is deemed %s\" % null_hyp_status_bonferroni(pvalues, alpha))"
   ]
  },
  {
   "cell_type": "markdown",
   "metadata": {
    "deletable": true,
    "editable": true
   },
   "source": [
    "That looks better. In order to make sure, let's generate a lot of synthetic datasets as earlier and let's see if our Bonferroni-corrected test provides the nominal type I error probability $\\alpha=0.05$:"
   ]
  },
  {
   "cell_type": "code",
   "execution_count": 8,
   "metadata": {
    "collapsed": false,
    "deletable": true,
    "editable": true,
    "scrolled": true
   },
   "outputs": [
    {
     "name": "stderr",
     "output_type": "stream",
     "text": [
      "5000 out of 5000 completed (fraction of rejections so far: 0.05)\n"
     ]
    },
    {
     "name": "stdout",
     "output_type": "stream",
     "text": [
      "\n",
      "Measured chance probability of rejecting the null: 0.047 (should be 0.050)\n"
     ]
    }
   ],
   "source": [
    "# Let's do again 5000 realization of datasets with 50\n",
    "# pairs where the null is true for all pairs,\n",
    "# and study the performance of the new procedure\n",
    "type_I_error_p = measure_rejection_prob(5000, \n",
    "                                        apply_ttest, \n",
    "                                        null_hyp_status_bonferroni,\n",
    "                                        alpha, \n",
    "                                        n_datasets=50,\n",
    "                                        n_null_true=50)\n",
    "\n",
    "print(\"\\nMeasured chance probability of rejecting the \"\n",
    "      \"null: %.3f (should be %.3f)\" % (type_I_error_p, alpha))"
   ]
  },
  {
   "cell_type": "markdown",
   "metadata": {
    "deletable": true,
    "editable": true
   },
   "source": [
    "It worked. The type I error probability is indeed very close to the nominal 5%."
   ]
  },
  {
   "cell_type": "markdown",
   "metadata": {
    "deletable": true,
    "editable": true
   },
   "source": [
    "## Issues with Bonferroni-like corrections: Global vs local hypothesis"
   ]
  },
  {
   "cell_type": "markdown",
   "metadata": {
    "deletable": true,
    "editable": true
   },
   "source": [
    "Until now we were dealing with the \"global\" null hypothesis, in our case with the problem \"is there *any* pair where the average is different between the two populations?\". The null hypothesis is that *all* pairs have the same average between the populations, the alternative that one or more has not. \n",
    "\n",
    "However, often we are interested in another problem: \"find *all* the pairs where the average is different\". In this second case, each pair gets its own null and alternative hypothesis and we are interested in how many null hypothesis are rejected.\n",
    "\n",
    "It is clear that the Bonferroni correction will still guarantee a *global* $\\alpha$ type I error probability of rejecting one or more nulls by chance, but it penalizes all tests in order to do so, because $\\alpha$ for each test is given by the Sidak formula and $1 - (1-\\alpha)^{1/m} < \\alpha$ for $m > 1$. \n",
    "\n",
    "Moreover, as $m$ grows the global null hypothesis is still tested with the same type I error probability, but each of the $m$ null hypothesis get tested more and more restrictively, and as $m \\to \\infty$ we have $\\alpha^{\\prime} \\to 0$, so it would be extremely difficult to find any deviation from the null hypothesis. In other words, \"the more you look, the less you find\".\n",
    "\n",
    "Let's illustrate this by considering the Type II error of one single test, i.e. the probability of not rejecting the null when we should have. First let's generate and test a pair where the null is false:"
   ]
  },
  {
   "cell_type": "code",
   "execution_count": 9,
   "metadata": {
    "collapsed": false,
    "deletable": true,
    "editable": true
   },
   "outputs": [
    {
     "name": "stdout",
     "output_type": "stream",
     "text": [
      "Null hyp. is deemed False\n"
     ]
    }
   ],
   "source": [
    "# Let's get a dataset with 1 group and\n",
    "# the null hypothesis is False\n",
    "w1, w2, ground_truth = generate_dataset(n_datasets=1, n_null_true=0)\n",
    "\n",
    "# Let's now apply the test\n",
    "alpha = 0.05\n",
    "pvalue = apply_ttest(w1, w2)\n",
    "\n",
    "print(\"Null hyp. is deemed %s\" % null_hyp_status(pvalue, alpha))"
   ]
  },
  {
   "cell_type": "markdown",
   "metadata": {
    "deletable": true,
    "editable": true
   },
   "source": [
    "We have rigthfully rejected the null hypothesis. Now let's see how many times we fail to reject the null even if it is false over many repetitions of the same experiment (type II error probability):"
   ]
  },
  {
   "cell_type": "code",
   "execution_count": 10,
   "metadata": {
    "collapsed": false,
    "deletable": true,
    "editable": true
   },
   "outputs": [
    {
     "name": "stderr",
     "output_type": "stream",
     "text": [
      "5000 out of 5000 completed (fraction of rejections so far: 0.94)\n"
     ]
    },
    {
     "name": "stdout",
     "output_type": "stream",
     "text": [
      "\n",
      "Measured chance probability of *not* rejecting the null: 0.062\n"
     ]
    }
   ],
   "source": [
    "type_II_error_p = 1 - measure_rejection_prob(5000, \n",
    "                                             apply_ttest, \n",
    "                                             null_hyp_status,\n",
    "                                             alpha, \n",
    "                                             n_datasets=1,\n",
    "                                             n_null_true=0)\n",
    "\n",
    "print(\"\\nMeasured chance probability of *not* rejecting the \"\n",
    "      \"null: %.3f\" % (type_II_error_p))"
   ]
  },
  {
   "cell_type": "markdown",
   "metadata": {
    "deletable": true,
    "editable": true
   },
   "source": [
    "So for one test we have a probability of around 6% ($\\beta = 0.06$) of *not* rejecting the null even if it is false (of course, $\\beta$ depends on $\\alpha$ as well as on the size of the effect, in this case the difference between the two averages).\n",
    "\n",
    "Now let's see what happens if we use the Bonferroni-corrected test on 50 pairs where only one has the null hypothesis false:"
   ]
  },
  {
   "cell_type": "code",
   "execution_count": 11,
   "metadata": {
    "collapsed": false,
    "deletable": true,
    "editable": true
   },
   "outputs": [
    {
     "name": "stderr",
     "output_type": "stream",
     "text": [
      "5000 out of 5000 completed (fraction of rejections so far: 0.59)\n"
     ]
    },
    {
     "name": "stdout",
     "output_type": "stream",
     "text": [
      "\n",
      "Measured chance probability of *not* rejecting the null: 0.410\n"
     ]
    }
   ],
   "source": [
    "type_II_error_p = 1 - measure_rejection_prob(5000, \n",
    "                                             apply_ttest, \n",
    "                                             null_hyp_status_bonferroni,\n",
    "                                             alpha, \n",
    "                                             n_datasets=50,\n",
    "                                             n_null_true=49)\n",
    "\n",
    "print(\"\\nMeasured chance probability of *not* rejecting the \"\n",
    "      \"null: %.3f\" % (type_II_error_p))"
   ]
  },
  {
   "cell_type": "markdown",
   "metadata": {
    "deletable": true,
    "editable": true
   },
   "source": [
    "Now we have a 41% probability of *not* rejecting the null when we should have. We clearly have lost a lot of sensitivity now that the difference in one pair is buried in a sample of 50 pairs.\n",
    "\n",
    "To some extent, this is inevitable and it is the price we pay for not knowing exactly where to look.\n",
    "\n",
    "However, when trying to test all the *local* null hypothesis instead of the *global* one, things get out of hand very quickly. In order to get an idea, let's make several larger and larger datasets with 50 false null hypothesis each, and see how the type II error changes as a function of the number of pairs/tests $m$:\n",
    "\n",
    "> NOTE: from now on we will repeatedly use the concepts of [Precision and Recall](https://en.wikipedia.org/wiki/Precision_and_recall). The former describes the fraction of correct \"detections\" (i.e., null hypothesis rejected) among all detections, i.e., describes the purity of the output sample of our procedure. The latter describes the fraction of null hyp. that we have rejected among the one that we should have rejected (i.e., the completeness of our output sample)."
   ]
  },
  {
   "cell_type": "code",
   "execution_count": 12,
   "metadata": {
    "collapsed": false,
    "deletable": true,
    "editable": true
   },
   "outputs": [
    {
     "name": "stdout",
     "output_type": "stream",
     "text": [
      "Generating 13 datasets\n"
     ]
    },
    {
     "name": "stderr",
     "output_type": "stream",
     "text": [
      "Method bonferroni with alpha 0.05.............completed\n"
     ]
    },
    {
     "data": {
      "image/png": "[encoded data removed]",
      "text/plain": [
       "<matplotlib.figure.Figure at 0x7f80a440f110>"
      ]
     },
     "metadata": {},
     "output_type": "display_data"
    }
   ],
   "source": [
    "# Test the Bonferroni method with alpha=0.05\n",
    "methods = [('bonferroni', 0.05)]\n",
    "\n",
    "# Number of pairs per dataset\n",
    "ms = np.array([70, 80, 90, 100, 120, 150, 175, 220, 280, 350, 500, 700, 1000])\n",
    "\n",
    "print(\"Generating %s datasets\" % len(ms))\n",
    "\n",
    "# Pairs with a false null hypothesis for each dataset\n",
    "n_false = 50\n",
    "\n",
    "(selections, \n",
    " false_positives, \n",
    " false_negatives, \n",
    " global_typeI) = characterize_methods(apply_ttest, \n",
    "                                      methods, \n",
    "                                      ms, \n",
    "                                      [n_false] * ms.shape[0], \n",
    "                                      niter=800,\n",
    "                                      plot=True)"
   ]
  },
  {
   "cell_type": "markdown",
   "metadata": {
    "deletable": true,
    "editable": true
   },
   "source": [
    "We can see that the purity of the output sample is constant to 1.0, but the completeness is small and it also falls very quickly as the number of tests increases. In other words, we are detecting less and less anomalies as $m$ increases but the ones we detect are always correct. The type I error probability of detecting *any* false positive is below the declared $\\alpha$ level always, although very conservatively so for small $m$.\n",
    "\n",
    "Can we do better?\n",
    "\n",
    "The answer is, fortunately, yes!"
   ]
  },
  {
   "cell_type": "markdown",
   "metadata": {
    "deletable": true,
    "editable": true
   },
   "source": [
    "## The Holm-Sidak method\n",
    "\n",
    "There are several corrections that have been proposed to the vanilla Bonferroni/Sidak method. You can find them described [here](https://en.wikipedia.org/wiki/Holm–Bonferroni_method). Without going into the details of each one of them (see the Wikipedia page for that), let's just test them:"
   ]
  },
  {
   "cell_type": "code",
   "execution_count": 13,
   "metadata": {
    "collapsed": false,
    "deletable": true,
    "editable": true
   },
   "outputs": [
    {
     "name": "stdout",
     "output_type": "stream",
     "text": [
      "Generating 13 datasets\n"
     ]
    },
    {
     "name": "stderr",
     "output_type": "stream",
     "text": [
      "Method bonferroni with alpha 0.05.............completed\n",
      "Method holm with alpha 0.05.............completed\n",
      "Method holm-sidak with alpha 0.05.............completed\n",
      "Method simes-hochberg with alpha 0.05.............completed\n"
     ]
    },
    {
     "data": {
      "image/png": "[encoded data removed]",
      "text/plain": [
       "<matplotlib.figure.Figure at 0x7f807431efd0>"
      ]
     },
     "metadata": {},
     "output_type": "display_data"
    }
   ],
   "source": [
    "# Test the Bonferroni method with alpha=0.05\n",
    "methods = [('bonferroni', 0.05), \n",
    "           ('holm', 0.05), \n",
    "           ('holm-sidak', 0.05),\n",
    "           ('simes-hochberg', 0.05)]\n",
    "\n",
    "# Number of pairs per dataset\n",
    "ms = np.array([70, 80, 90, 100, 120, 150, 175, 220, 280, 350, 500, 700, 1000])\n",
    "\n",
    "print(\"Generating %s datasets\" % len(ms))\n",
    "\n",
    "# Pairs with a false null hypothesis for each dataset\n",
    "n_false = 50\n",
    "\n",
    "(selections, \n",
    " false_positives, \n",
    " false_negatives, \n",
    " global_typeI) = characterize_methods(apply_ttest, \n",
    "                                      methods, \n",
    "                                      ms, \n",
    "                                      [n_false] * ms.shape[0], \n",
    "                                      niter=800,\n",
    "                                      plot=True)"
   ]
  },
  {
   "cell_type": "markdown",
   "metadata": {
    "deletable": true,
    "editable": true
   },
   "source": [
    "The new methods conserve the absolute purity of the vanilla Bonferroni and a type I error below or at the nominal value, but improve a little bit the completeness. However, we can do a lot better than this! Let's see how."
   ]
  },
  {
   "cell_type": "markdown",
   "metadata": {
    "deletable": true,
    "editable": true
   },
   "source": [
    "## False Discovery Rate vs Family-Wise Error Rate\n",
    "\n",
    "Up to now our solutions to the multiple hypothesis testing problem have been trying to keep under control the FWER, i.e., the rate of type I errors committed in the entire set of $m$ tests (what we called the global $\\alpha$ in the plots above). \n",
    "\n",
    "However, in the case where we expect several \"detections\" (i.e., several false null hypothesis) we can sacrifice a little our desire for complete purity and decide that we can accept a controlled amount of false positives if this helps improving sensibly the completeness. In other words, we can accept to have a certain amount of \"impostors\" in our output sample of detections. This is the idea behind the FDR.\n",
    "\n",
    "[Benjamini and Holdberg (1995)](https://www.jstor.org/stable/2346101?seq=1#page_scan_tab_contents) presented a procedure that does just that. There, $\\alpha$ does not represent anymore the type I error probability, but rather controls the purity of the output sample (i.e., directly affects the Precision instead of the global $\\alpha$ as our previous methods). The (expected) Precision is guaranteed to be $> 1 - \\alpha$.\n",
    "\n",
    "As before, we refer to the paper for details. Here I want to illustrate the difference with respect to our earlier methods. Let's use the same procedure as before. For simplicity, let's consider only the best method for our problem among the Boferroni-like ones according to the previous plot (\"holm-sidak\"):"
   ]
  },
  {
   "cell_type": "code",
   "execution_count": 14,
   "metadata": {
    "collapsed": false,
    "deletable": true,
    "editable": true,
    "scrolled": false
   },
   "outputs": [
    {
     "name": "stderr",
     "output_type": "stream",
     "text": [
      "Method holm-sidak with alpha 0.10.............completed\n",
      "Method holm-sidak with alpha 0.05.............completed\n",
      "Method fdr_bh with alpha 0.10.............completed\n",
      "Method fdr_bh with alpha 0.05.............completed\n"
     ]
    },
    {
     "data": {
      "image/png": "[encoded data removed]",
      "text/plain": [
       "<matplotlib.figure.Figure at 0x7f807455ff10>"
      ]
     },
     "metadata": {},
     "output_type": "display_data"
    }
   ],
   "source": [
    "# Let's use two values of alpha per method to illustrate\n",
    "# what they affect\n",
    "methods = [('holm-sidak', 0.1), \n",
    "           ('holm-sidak', 0.05), \n",
    "           ('fdr_bh', 0.1), \n",
    "           ('fdr_bh', 0.05)]\n",
    "\n",
    "# Number of tests\n",
    "ms = np.array([70, 80, 90, 100, 120, 150, 175, 220, 280, 350, 500, 700, 1000])\n",
    "\n",
    "# False null hypothesis that we are going to generate\n",
    "n_false = 50\n",
    "\n",
    "(selections, \n",
    " false_positives, \n",
    " false_negatives, \n",
    " global_typeI) = characterize_methods(apply_ttest, \n",
    "                                      methods, \n",
    "                                      ms, \n",
    "                                      [n_false] * ms.shape[0], \n",
    "                                      niter=800,\n",
    "                                      plot=True)"
   ]
  },
  {
   "cell_type": "markdown",
   "metadata": {
    "deletable": true,
    "editable": true
   },
   "source": [
    "We can immediately see that the BH method provides a much larger Recall (\"completeness\", second panel) by sacrificing a controlled amount  of Precision (\"purity\"). Indeed, as promised the Precision is $> 1-\\alpha$. Going from $\\alpha = 0.01$ to $\\alpha = 0.05$ in the BH method increases as expected the purity but decreases the completeness. Also, the global $\\alpha$ (bottom panel) for the BH method is large and close to 1, which means that in any experiment there is a high probability of getting one or more false positives. This is the price to pay for increasing the completeness, where we gain almost a factor of 2 especially for large and very large number of tests $m$ with respect to Bonferroni-like methods.\n",
    "\n",
    "Now we understand the key difference between FWER-controlling and FDR-controlling methods: the former put an upper limit $\\alpha$ on the FWER (\"global\" $\\alpha$, bottom panel), while the latter put a lower limit $1 - \\alpha$ on the Precision (\"purity\", upper panel).\n",
    "\n",
    "Up to now we have studied the case where the number of false null hypothesis is constant and the number of tests increases. What happens when the number of false hypothesis increases with the number of tests? This happens for example when we are expanding a search to a previously-unexplored part of the parameter space when we expect the false null hypothesis/anomalies (\"sources\" in an Astronomical catalog) to have the same density as before."
   ]
  },
  {
   "cell_type": "code",
   "execution_count": 15,
   "metadata": {
    "collapsed": false,
    "deletable": true,
    "editable": true
   },
   "outputs": [
    {
     "name": "stderr",
     "output_type": "stream",
     "text": [
      "Method holm-sidak with alpha 0.10.............completed\n",
      "Method holm-sidak with alpha 0.05.............completed\n",
      "Method fdr_bh with alpha 0.10.............completed\n",
      "Method fdr_bh with alpha 0.05.............completed\n"
     ]
    },
    {
     "data": {
      "image/png": "[encoded data removed]",
      "text/plain": [
       "<matplotlib.figure.Figure at 0x7f806d693650>"
      ]
     },
     "metadata": {},
     "output_type": "display_data"
    }
   ],
   "source": [
    "# This time we have 30% of false hypothesis for each\n",
    "# m\n",
    "(selections, \n",
    " false_positives, \n",
    " false_negatives, \n",
    " global_typeI) = characterize_methods(apply_ttest, \n",
    "                                      methods, \n",
    "                                      ms, \n",
    "                                      np.ceil(0.3 * ms).astype(int), \n",
    "                                      niter=800)"
   ]
  },
  {
   "cell_type": "markdown",
   "metadata": {
    "deletable": true,
    "editable": true
   },
   "source": [
    "Results are similar as before, but now the completeness for the BH method is essentially constant independently of $m$."
   ]
  },
  {
   "cell_type": "markdown",
   "metadata": {
    "deletable": true,
    "editable": true
   },
   "source": [
    "## Conclusion"
   ]
  },
  {
   "cell_type": "markdown",
   "metadata": {
    "deletable": true,
    "editable": true
   },
   "source": [
    "We have illustrated the problem with multiple hypothesis testing, and two very different methods of dealing with it.\n",
    "\n",
    "* Methods controling the FWER (like the Bonferroni correction) maximize the Precision (\"purity\") at the expense of Recall (\"completeness\" and sensitivity). They are appropriate when the number of expected false null hypothesis/anomalies/detections is small and the price to pay for false positives is high, so purity is more important than completeness. For example, they are very appropriate when looking for the first time for a new effect/new physics, as the expected number of false null hypothesis is at most one and the global null hypothesis really matters. In this case, indeed, making even one false claim is of course very consequential.\n",
    "\n",
    "* Methods controlling the FDR (like the Benjamini - Hochberg): they increase a lot the completeness with respect to FWER-controlling methods by allowing a controlled amount of false detections to sneak in. They are appropriate when we expect to have several false null hypothesis/anomalies/detections and we can afford to have some false claims. This is typically the situation for catalog works. Using FWER in catalog works introduces a significant [Malmquist bias](https://en.wikipedia.org/wiki/Malmquist_bias) where only very strong effects can be seen.\n",
    "\n",
    "> NOTE: in this illustrative example we used one single effect size for all false null hypothesis. This is almost never the case in reality, so the distribution of the differences (for example the luminosity function for Astronomical sources) is going to affect obviously the number of anomaly detected. However, the general idea presented here still holds. In the case of an Astronomical catalog, for example, using the FDR instead of the FWER allows to detect fainter sources (increase the sensitivity) at the expenses of some false discoveries."
   ]
  },
  {
   "cell_type": "markdown",
   "metadata": {
    "deletable": true,
    "editable": true
   },
   "source": [
    "# Code"
   ]
  },
  {
   "cell_type": "code",
   "execution_count": 1,
   "metadata": {
    "collapsed": true,
    "deletable": true,
    "editable": true
   },
   "outputs": [],
   "source": [
    "import numpy as np\n",
    "import pandas as pd\n",
    "import scipy.stats\n",
    "import matplotlib.pyplot as plt\n",
    "import sys\n",
    "import multiprocessing\n",
    "import itertools\n",
    "import functools\n",
    "from statsmodels.stats.multitest import multipletests\n",
    "\n",
    "#Let's set the random seed so the results of the notebook\n",
    "# are always the same at every run\n",
    "np.random.seed(0)\n",
    "\n",
    "%matplotlib inline\n",
    "\n",
    "def generate_dataset(n_datasets, n_null_true, n_samples=100, seed=0):\n",
    "    \n",
    "    # This is to make the results predictable\n",
    "    np.random.seed(seed)\n",
    "    \n",
    "    n_null_false = n_datasets - n_null_true\n",
    "    \n",
    "    w1 = []\n",
    "    w2 = []\n",
    "    null_status = []\n",
    "    \n",
    "    for i in range(n_null_true):\n",
    "        \n",
    "        wn_1 = np.random.normal(loc=90, scale=10, size=n_samples)\n",
    "        wn_2 = np.random.normal(loc=90, scale=10, size=n_samples)\n",
    "    \n",
    "        w1.append(wn_1)\n",
    "        w2.append(wn_2)\n",
    "        \n",
    "        null_status.append(True)\n",
    "    \n",
    "    for i in range(n_null_false):\n",
    "        \n",
    "        wn_1 = np.random.normal(loc=95, scale=10, size=n_samples)\n",
    "        wn_2 = np.random.normal(loc=90, scale=10, size=n_samples)\n",
    "    \n",
    "        w1.append(wn_1)\n",
    "        w2.append(wn_2)\n",
    "        null_status.append(False)\n",
    "    \n",
    "    return w1, w2, np.array(null_status)\n",
    "\n",
    "\n",
    "def worker_function(i, generate_dataset_kw, test, null_hyp_status):\n",
    "    \n",
    "    generate_dataset_kw['seed'] = (i+1) * 1000\n",
    "\n",
    "    w1, w2, _ = generate_dataset(**generate_dataset_kw)\n",
    "    pvalue = test(w1, w2)\n",
    "\n",
    "    return null_hyp_status(pvalue, alpha) \n",
    "\n",
    "\n",
    "def measure_rejection_prob(n_iter, test, null_hyp_status, \n",
    "                           alpha, **generate_dataset_kw):       \n",
    "    \n",
    "    n_rejected = 0\n",
    "    \n",
    "    worker = functools.partial(worker_function, generate_dataset_kw=generate_dataset_kw,\n",
    "                              test=test, null_hyp_status=null_hyp_status)\n",
    "    \n",
    "    pool = multiprocessing.Pool()\n",
    "    \n",
    "    try:\n",
    "        \n",
    "        for i, res in enumerate(pool.imap(worker, range(n_iter), chunksize=100)):\n",
    "\n",
    "            if not res:\n",
    "\n",
    "                n_rejected += 1\n",
    "\n",
    "            if (i+1) % 100 == 0:\n",
    "\n",
    "                sys.stderr.write(\"\\r%i out of %i completed (fraction of \"\n",
    "                                 \"rejections so far: %.2f)\" % (i+1, n_iter, \n",
    "                                                               n_rejected / float(i+1)))\n",
    "        sys.stderr.write(\"\\n\")\n",
    "        sys.stderr.flush()\n",
    "    \n",
    "    except:\n",
    "        \n",
    "        raise\n",
    "    \n",
    "    finally:\n",
    "    \n",
    "        pool.close()\n",
    "        pool.join()\n",
    "    \n",
    "    return n_rejected / float(n_iter)\n",
    "\n",
    "\n",
    "def worker_function2(i, generate_dataset_kw, test, method, alpha):\n",
    "        \n",
    "    generate_dataset_kw['seed'] = (i+1) * 1000\n",
    "\n",
    "    w1, w2, null_hyp = generate_dataset(**generate_dataset_kw)\n",
    "    pvalues = test(w1, w2)\n",
    "        \n",
    "    reject, _, _, _ = multipletests(pvalues, alpha, \n",
    "                                    method=method, \n",
    "                                    is_sorted=False, \n",
    "                                    returnsorted=False)\n",
    "    \n",
    "    # False positives: I rejected when I shouldn't have\n",
    "    n_false_pos = np.sum((reject == True) & (null_hyp==True))\n",
    "    \n",
    "    # False negatives: I didn't reject when I should have\n",
    "    n_false_neg = np.sum((reject == False) & (null_hyp==False))\n",
    "    \n",
    "    return np.sum(reject), n_false_pos, n_false_neg\n",
    "\n",
    "def measure_detections(n_iter, test, method, \n",
    "                       alpha, **generate_dataset_kw):       \n",
    "    \n",
    "    n_false_pos = []\n",
    "    n_false_neg = []\n",
    "    n_selected = []\n",
    "    \n",
    "    worker = functools.partial(worker_function2, generate_dataset_kw=generate_dataset_kw,\n",
    "                              test=test, method=method, alpha=alpha)\n",
    "    \n",
    "    pool = multiprocessing.Pool()\n",
    "    \n",
    "    try:\n",
    "        for i, (s, fp, fn) in enumerate(pool.imap(worker, \n",
    "                                                  range(n_iter), \n",
    "                                                  chunksize=100)):\n",
    "            \n",
    "            n_selected.append(s)\n",
    "            n_false_pos.append(fp)\n",
    "            n_false_neg.append(fn)\n",
    "\n",
    "    except:\n",
    "        \n",
    "        raise\n",
    "    \n",
    "    finally:\n",
    "        \n",
    "        pool.close()\n",
    "        pool.join()\n",
    "    \n",
    "    global_typeI = np.sum(np.array(n_false_pos) > 0) / float(n_iter)\n",
    "    \n",
    "    return (np.average(n_selected), \n",
    "            np.average(n_false_pos), \n",
    "            np.average(n_false_neg), \n",
    "            global_typeI)\n",
    "\n",
    "def characterize_methods(test, methods, ms, n_false, niter=800, plot=True):\n",
    "    \n",
    "    selections = {}\n",
    "    false_positives = {}\n",
    "    false_negatives = {}\n",
    "    global_typeI = {}\n",
    "        \n",
    "    for method, alpha in methods:\n",
    "        \n",
    "        # Clear output\n",
    "        sys.stderr.write(\"Method %s with alpha %.2f\" % (method, alpha))\n",
    "\n",
    "        s = np.zeros(len(ms), int)\n",
    "        fp = np.zeros_like(s)\n",
    "        fn = np.zeros_like(s)\n",
    "        gtI = np.zeros(s.shape[0], float)\n",
    "\n",
    "        for i, (m, nf) in enumerate(zip(ms, n_false)):\n",
    "\n",
    "            s[i], fp[i], fn[i], gtI[i] = measure_detections(niter, \n",
    "                                                test, \n",
    "                                                method,\n",
    "                                                alpha, \n",
    "                                                n_datasets=m,\n",
    "                                                n_null_true=m - nf)\n",
    "            sys.stderr.write(\".\")\n",
    "                \n",
    "        selections[(method, alpha)] = s\n",
    "        false_positives[(method, alpha)] = fp\n",
    "        false_negatives[(method, alpha)] = fn\n",
    "        global_typeI[(method, alpha)] = gtI\n",
    "    \n",
    "        sys.stderr.write(\"completed\\n\")\n",
    "    \n",
    "    if plot:\n",
    "        \n",
    "        fig, subs = plt.subplots(3, 1, sharex=True, \n",
    "                             figsize=(4,10), \n",
    "                             gridspec_kw={'hspace': 0.0, 'top': 0.95})\n",
    "\n",
    "        for key in methods:\n",
    "\n",
    "            true_positives = selections[key] - false_positives[key]\n",
    "\n",
    "            precision = true_positives.astype(float) / selections[key]\n",
    "            recall = true_positives / (true_positives + false_negatives[key]).astype(float)\n",
    "            \n",
    "            label = r\"%s ($\\alpha$=%.2f)\" % (key[0], key[1])\n",
    "            \n",
    "            _ = subs[0].plot(ms, precision, label=label)\n",
    "            _ = subs[1].plot(ms, recall, label=label)\n",
    "            _ = subs[2].plot(ms, global_typeI[key], label=label)\n",
    "        \n",
    "        subs[0].set_ylabel(\"Precision\\n(purity)\")\n",
    "        subs[1].set_ylabel(\"Recall\\n(completeness)\")\n",
    "        subs[2].set_ylabel(r\"Global $\\alpha$\")\n",
    "        subs[2].set_xlabel(\"Number of tests\")\n",
    "\n",
    "        subs[2].set_xscale(\"log\")\n",
    "        \n",
    "        plt.axes(subs[0])\n",
    "        plt.legend(bbox_to_anchor=(1.05, 1), loc=2, borderaxespad=0.)\n",
    "        \n",
    "    return selections, false_positives, false_negatives, global_typeI"
   ]
  },
  {
   "cell_type": "code",
   "execution_count": 19,
   "metadata": {
    "collapsed": false,
    "deletable": true,
    "editable": true
   },
   "outputs": [
    {
     "data": {
      "application/javascript": [
       "$.getScript('https://kmahelona.github.io/ipython_notebook_goodies/ipython_notebook_toc.js')"
      ],
      "text/plain": [
       "<IPython.core.display.Javascript object>"
      ]
     },
     "metadata": {},
     "output_type": "display_data"
    }
   ],
   "source": [
    "%%javascript\n",
    "$.getScript('https://kmahelona.github.io/ipython_notebook_goodies/ipython_notebook_toc.js')"
   ]
  },
  {
   "cell_type": "code",
   "execution_count": null,
   "metadata": {
    "collapsed": true,
    "deletable": true,
    "editable": true
   },
   "outputs": [],
   "source": []
  }
 ],
 "metadata": {
  "kernelspec": {
   "display_name": "Python 2",
   "language": "python",
   "name": "python2"
  },
  "language_info": {
   "codemirror_mode": {
    "name": "ipython",
    "version": 2
   },
   "file_extension": ".py",
   "mimetype": "text/x-python",
   "name": "python",
   "nbconvert_exporter": "python",
   "pygments_lexer": "ipython2",
   "version": "2.7.12"
  }
 },
 "nbformat": 4,
 "nbformat_minor": 2
}
