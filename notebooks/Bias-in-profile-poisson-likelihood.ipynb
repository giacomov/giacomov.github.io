{
 "cells": [
  {
   "cell_type": "markdown",
   "metadata": {},
   "source": [
    "# Bias in the profile Poisson likelihood\n",
    "\n",
    "> You can find an interactive version of this Jupyter notebook in my [github](https://github.com/giacomov/giacomov.github.io/tree/master/notebooks)\n",
    "\n",
    "A common method used when modeling spectra in the X-rays and gamma-rays community involves the maximization of a profile likelihood commonly called CSTAT. \n",
    "\n",
    "## CSTAT derivation\n",
    "\n",
    "We start from an observed spectrum accumulated in a source region (a time interval with a signal for a time series or a circular region containing a source for a 2d dataset), and a background spectrum obtained by counting events in a \"background region\", usually an off-source interval for 1-d data or a control region like an annulus around the source of interest in 2-d data. Let's assume both spectra have the same number of bins $N$.\n",
    "\n",
    "Following the same notation as in the [XSpec manual](https://heasarc.gsfc.nasa.gov/xanadu/xspec/manual/XSappendixStatistics.html), let's consider the i-th bin in the spectra, with these definitions:\n",
    "\n",
    "* $t_s$ is the exposure for the on-source spectrum\n",
    "* $t_b$ is the exposure for the background spectrum\n",
    "* $S_i$, $B_i$ are the number of counts respectively in the on-source and in the off-source spectrum\n",
    "* $m_i$ is the expected *rate* of events from the source model under consideration (i.e., a spectral model convolved with the response of the instrument)\n",
    "* $b_i$ is the expected *rate* of events from the background model under consideration\n",
    "\n",
    "Both the source and background counts are Poisson random variables. Let's derive the formula for CSTAT using the [sympy](http://www.sympy.org/en/index.html) package for symbolic computation:"
   ]
  },
  {
   "cell_type": "code",
   "execution_count": 2,
   "metadata": {
    "collapsed": true
   },
   "outputs": [],
   "source": [
    "from sympy import *\n",
    "from IPython.display import display\n",
    "init_printing()\n",
    "\n",
    "# define symbols\n",
    "ts,mi,bi,Si,tb,bi,Bi = symbols(\"t_s m_i b_i S_i t_b b_i B_i\", \n",
    "                               real=True, \n",
    "                               nonnegative=True)"
   ]
  },
  {
   "cell_type": "markdown",
   "metadata": {},
   "source": [
    "The expected number of counts from the source model is $t_s (m_i + b_i)$, so the Poisson distribution for the source spectrum is:"
   ]
  },
  {
   "cell_type": "code",
   "execution_count": 3,
   "metadata": {
    "collapsed": false
   },
   "outputs": [
    {
     "data": {
      "image/png": "[encoded data removed]",
      "text/latex": [
       "$$\\frac{1}{S_{i}!} \\left(t_{s} \\left(b_{i} + m_{i}\\right)\\right)^{S_{i}} e^{- t_{s} \\left(b_{i} + m_{i}\\right)}$$"
      ],
      "text/plain": [
       "               Sᵢ  -t_s⋅(bᵢ + mᵢ)\n",
       "(t_s⋅(bᵢ + mᵢ))  ⋅ℯ              \n",
       "─────────────────────────────────\n",
       "               Sᵢ!               "
      ]
     },
     "metadata": {},
     "output_type": "display_data"
    }
   ],
   "source": [
    "# Source Poisson distribution\n",
    "P1 = (ts*(mi+bi))**Si * exp(-(ts*(mi+bi))) / factorial(Si)\n",
    "\n",
    "display(P1)"
   ]
  },
  {
   "cell_type": "markdown",
   "metadata": {},
   "source": [
    "The expected number of counts for the background is $t_b b_i$:"
   ]
  },
  {
   "cell_type": "code",
   "execution_count": 4,
   "metadata": {
    "collapsed": false
   },
   "outputs": [
    {
     "data": {
      "image/png": "[encoded data removed]",
      "text/latex": [
       "$$\\frac{\\left(b_{i} t_{b}\\right)^{B_{i}}}{B_{i}!} e^{- b_{i} t_{b}}$$"
      ],
      "text/plain": [
       "        Bᵢ  -bᵢ⋅t_b\n",
       "(bᵢ⋅t_b)  ⋅ℯ       \n",
       "───────────────────\n",
       "        Bᵢ!        "
      ]
     },
     "metadata": {},
     "output_type": "display_data"
    }
   ],
   "source": [
    "P2 = (tb * bi)**Bi * exp(-(tb*bi)) / factorial(Bi)\n",
    "\n",
    "display(P2)"
   ]
  },
  {
   "cell_type": "markdown",
   "metadata": {},
   "source": [
    "The joint probability of observing $S_i$ counts in the source spectrum and $B_i$ counts in the background spectrum is $P1 \\times P2$. Let's then take the logarithm of it, which is our [log(likelihood)](https://en.wikipedia.org/wiki/Likelihood_function#Log-likelihood) function:"
   ]
  },
  {
   "cell_type": "code",
   "execution_count": 5,
   "metadata": {
    "collapsed": false
   },
   "outputs": [
    {
     "data": {
      "image/png": "[encoded data removed]",
      "text/latex": [
       "$$- b_{i} t_{b} - b_{i} t_{s} - m_{i} t_{s} + \\log{\\left (b_{i}^{B_{i}} t_{b}^{B_{i}} \\left(t_{s} \\left(b_{i} + m_{i}\\right)\\right)^{S_{i}} \\right )} - \\log{\\left (B_{i}! \\right )} - \\log{\\left (S_{i}! \\right )}$$"
      ],
      "text/plain": [
       "                               ⎛  Bᵢ    Bᵢ                Sᵢ⎞                 \n",
       "-bᵢ⋅t_b - bᵢ⋅t_s - mᵢ⋅t_s + log⎝bᵢ  ⋅t_b  ⋅(t_s⋅(bᵢ + mᵢ))  ⎠ - log(Bᵢ!) - log\n",
       "\n",
       "     \n",
       "(Sᵢ!)"
      ]
     },
     "metadata": {},
     "output_type": "display_data"
    }
   ],
   "source": [
    "P = P1 * P2\n",
    "\n",
    "L = log(P).expand().simplify()\n",
    "\n",
    "display(L)"
   ]
  },
  {
   "cell_type": "markdown",
   "metadata": {},
   "source": [
    "And here is the important bit: we now assume we do not have any information on the background model, so we consider each expectation in the background spectrum $b_i$ as a parameter free to vary. In other words, we use a background model with $N$ parameters (as many as the number of bins in the spectra) all free to vary independently of each other. This is the [maximum variance model](https://en.wikipedia.org/wiki/Bias%E2%80%93variance_tradeoff). We can then consider the [profile likelihood](https://en.wikipedia.org/wiki/Likelihood_function#Profile_likelihood) obtained by profiling out (i..e, maximizing the likelihood with respect to) the $b_i$. In order to do so, we take the partial derivative with respect to the $b_i$ and solve the equation $\\delta L / \\delta b_i = 0$ (because at the maximum of L all partial derivatives must be zero):"
   ]
  },
  {
   "cell_type": "code",
   "execution_count": 6,
   "metadata": {
    "collapsed": false
   },
   "outputs": [
    {
     "data": {
      "image/png": "[encoded data removed]",
      "text/latex": [
       "$$\\left [ \\left ( \\frac{1}{2 \\left(t_{b} + t_{s}\\right)} \\left(B_{i} + S_{i} - m_{i} t_{b} - m_{i} t_{s} - \\sqrt{B_{i}^{2} + 2 B_{i} S_{i} + 2 B_{i} m_{i} t_{b} + 2 B_{i} m_{i} t_{s} + S_{i}^{2} - 2 S_{i} m_{i} t_{b} - 2 S_{i} m_{i} t_{s} + m_{i}^{2} t_{b}^{2} + 2 m_{i}^{2} t_{b} t_{s} + m_{i}^{2} t_{s}^{2}}\\right)\\right ), \\quad \\left ( \\frac{1}{2 \\left(t_{b} + t_{s}\\right)} \\left(B_{i} + S_{i} - m_{i} t_{b} - m_{i} t_{s} + \\sqrt{B_{i}^{2} + 2 B_{i} S_{i} + 2 B_{i} m_{i} t_{b} + 2 B_{i} m_{i} t_{s} + S_{i}^{2} - 2 S_{i} m_{i} t_{b} - 2 S_{i} m_{i} t_{s} + m_{i}^{2} t_{b}^{2} + 2 m_{i}^{2} t_{b} t_{s} + m_{i}^{2} t_{s}^{2}}\\right)\\right )\\right ]$$"
      ],
      "text/plain": [
       "⎡⎛                               _____________________________________________\n",
       "⎢⎜                              ╱   2                                         \n",
       "⎢⎜Bᵢ + Sᵢ - mᵢ⋅t_b - mᵢ⋅t_s - ╲╱  Bᵢ  + 2⋅Bᵢ⋅Sᵢ + 2⋅Bᵢ⋅mᵢ⋅t_b + 2⋅Bᵢ⋅mᵢ⋅t_s + \n",
       "⎢⎜────────────────────────────────────────────────────────────────────────────\n",
       "⎣⎝                                                                  2⋅(t_b + t\n",
       "\n",
       "______________________________________________________________________ ⎞  ⎛   \n",
       "  2                                 2    2       2             2    2  ⎟  ⎜   \n",
       "Sᵢ  - 2⋅Sᵢ⋅mᵢ⋅t_b - 2⋅Sᵢ⋅mᵢ⋅t_s + mᵢ ⋅t_b  + 2⋅mᵢ ⋅t_b⋅t_s + mᵢ ⋅t_s   ⎟  ⎜Bᵢ \n",
       "──────────────────────────────────────────────────────────────────────,⎟, ⎜───\n",
       "_s)                                                                    ⎠  ⎝   \n",
       "\n",
       "                            __________________________________________________\n",
       "                           ╱   2                                           2  \n",
       "+ Sᵢ - mᵢ⋅t_b - mᵢ⋅t_s + ╲╱  Bᵢ  + 2⋅Bᵢ⋅Sᵢ + 2⋅Bᵢ⋅mᵢ⋅t_b + 2⋅Bᵢ⋅mᵢ⋅t_s + Sᵢ  -\n",
       "──────────────────────────────────────────────────────────────────────────────\n",
       "                                                               2⋅(t_b + t_s)  \n",
       "\n",
       "_________________________________________________________________ ⎞⎤\n",
       "                               2    2       2             2    2  ⎟⎥\n",
       " 2⋅Sᵢ⋅mᵢ⋅t_b - 2⋅Sᵢ⋅mᵢ⋅t_s + mᵢ ⋅t_b  + 2⋅mᵢ ⋅t_b⋅t_s + mᵢ ⋅t_s   ⎟⎥\n",
       "─────────────────────────────────────────────────────────────────,⎟⎥\n",
       "                                                                  ⎠⎦"
      ]
     },
     "metadata": {},
     "output_type": "display_data"
    }
   ],
   "source": [
    "dLdb = diff(L, bi)\n",
    "\n",
    "res = solve([dLdb], [bi])\n",
    "\n",
    "display(res)"
   ]
  },
  {
   "cell_type": "markdown",
   "metadata": {},
   "source": [
    "Of the two solutions, we take the second one which is positive (the expected background cannot be negative):"
   ]
  },
  {
   "cell_type": "code",
   "execution_count": 7,
   "metadata": {
    "collapsed": false
   },
   "outputs": [
    {
     "data": {
      "image/png": "[encoded data removed]",
      "text/latex": [
       "$$\\frac{1}{2 \\left(t_{b} + t_{s}\\right)} \\left(B_{i} + S_{i} - m_{i} t_{b} - m_{i} t_{s} + \\sqrt{B_{i}^{2} + 2 B_{i} S_{i} + 2 B_{i} m_{i} t_{b} + 2 B_{i} m_{i} t_{s} + S_{i}^{2} - 2 S_{i} m_{i} t_{b} - 2 S_{i} m_{i} t_{s} + m_{i}^{2} t_{b}^{2} + 2 m_{i}^{2} t_{b} t_{s} + m_{i}^{2} t_{s}^{2}}\\right)$$"
      ],
      "text/plain": [
       "                               _______________________________________________\n",
       "                              ╱   2                                           \n",
       "Bᵢ + Sᵢ - mᵢ⋅t_b - mᵢ⋅t_s + ╲╱  Bᵢ  + 2⋅Bᵢ⋅Sᵢ + 2⋅Bᵢ⋅mᵢ⋅t_b + 2⋅Bᵢ⋅mᵢ⋅t_s + Sᵢ\n",
       "──────────────────────────────────────────────────────────────────────────────\n",
       "                                                                  2⋅(t_b + t_s\n",
       "\n",
       "____________________________________________________________________\n",
       "2                                 2    2       2             2    2 \n",
       "  - 2⋅Sᵢ⋅mᵢ⋅t_b - 2⋅Sᵢ⋅mᵢ⋅t_s + mᵢ ⋅t_b  + 2⋅mᵢ ⋅t_b⋅t_s + mᵢ ⋅t_s  \n",
       "────────────────────────────────────────────────────────────────────\n",
       ")                                                                   "
      ]
     },
     "execution_count": 7,
     "metadata": {},
     "output_type": "execute_result"
    }
   ],
   "source": [
    "bi_mle = res[1][0]\n",
    "\n",
    "bi_mle.factor().simplify()"
   ]
  },
  {
   "cell_type": "markdown",
   "metadata": {},
   "source": [
    "We can now substitute it into the equation of the log likelihood. However, it becomes a very long expression:"
   ]
  },
  {
   "cell_type": "code",
   "execution_count": 8,
   "metadata": {
    "collapsed": false
   },
   "outputs": [
    {
     "data": {
      "image/png": "[encoded data removed]",
      "text/latex": [
       "$$- m_{i} t_{s} - \\frac{t_{b}}{2 \\left(t_{b} + t_{s}\\right)} \\left(B_{i} + S_{i} - m_{i} t_{b} - m_{i} t_{s} + \\sqrt{B_{i}^{2} + 2 B_{i} S_{i} + 2 B_{i} m_{i} t_{b} + 2 B_{i} m_{i} t_{s} + S_{i}^{2} - 2 S_{i} m_{i} t_{b} - 2 S_{i} m_{i} t_{s} + m_{i}^{2} t_{b}^{2} + 2 m_{i}^{2} t_{b} t_{s} + m_{i}^{2} t_{s}^{2}}\\right) - \\frac{t_{s}}{2 \\left(t_{b} + t_{s}\\right)} \\left(B_{i} + S_{i} - m_{i} t_{b} - m_{i} t_{s} + \\sqrt{B_{i}^{2} + 2 B_{i} S_{i} + 2 B_{i} m_{i} t_{b} + 2 B_{i} m_{i} t_{s} + S_{i}^{2} - 2 S_{i} m_{i} t_{b} - 2 S_{i} m_{i} t_{s} + m_{i}^{2} t_{b}^{2} + 2 m_{i}^{2} t_{b} t_{s} + m_{i}^{2} t_{s}^{2}}\\right) + \\log{\\left (t_{b}^{B_{i}} \\left(t_{s} \\left(m_{i} + \\frac{1}{2 \\left(t_{b} + t_{s}\\right)} \\left(B_{i} + S_{i} - m_{i} t_{b} - m_{i} t_{s} + \\sqrt{B_{i}^{2} + 2 B_{i} S_{i} + 2 B_{i} m_{i} t_{b} + 2 B_{i} m_{i} t_{s} + S_{i}^{2} - 2 S_{i} m_{i} t_{b} - 2 S_{i} m_{i} t_{s} + m_{i}^{2} t_{b}^{2} + 2 m_{i}^{2} t_{b} t_{s} + m_{i}^{2} t_{s}^{2}}\\right)\\right)\\right)^{S_{i}} \\left(\\frac{1}{2 \\left(t_{b} + t_{s}\\right)} \\left(B_{i} + S_{i} - m_{i} t_{b} - m_{i} t_{s} + \\sqrt{B_{i}^{2} + 2 B_{i} S_{i} + 2 B_{i} m_{i} t_{b} + 2 B_{i} m_{i} t_{s} + S_{i}^{2} - 2 S_{i} m_{i} t_{b} - 2 S_{i} m_{i} t_{s} + m_{i}^{2} t_{b}^{2} + 2 m_{i}^{2} t_{b} t_{s} + m_{i}^{2} t_{s}^{2}}\\right)\\right)^{B_{i}} \\right )} - \\log{\\left (B_{i}! \\right )} - \\log{\\left (S_{i}! \\right )}$$"
      ],
      "text/plain": [
       "                                                                              \n",
       "              ⎛                               ________________________________\n",
       "              ⎜                              ╱   2                            \n",
       "          t_b⋅⎝Bᵢ + Sᵢ - mᵢ⋅t_b - mᵢ⋅t_s + ╲╱  Bᵢ  + 2⋅Bᵢ⋅Sᵢ + 2⋅Bᵢ⋅mᵢ⋅t_b + 2\n",
       "-mᵢ⋅t_s - ────────────────────────────────────────────────────────────────────\n",
       "                                                                              \n",
       "\n",
       "                                                                              \n",
       "______________________________________________________________________________\n",
       "               2                                 2    2       2             2 \n",
       "⋅Bᵢ⋅mᵢ⋅t_s + Sᵢ  - 2⋅Sᵢ⋅mᵢ⋅t_b - 2⋅Sᵢ⋅mᵢ⋅t_s + mᵢ ⋅t_b  + 2⋅mᵢ ⋅t_b⋅t_s + mᵢ ⋅\n",
       "──────────────────────────────────────────────────────────────────────────────\n",
       " 2⋅(t_b + t_s)                                                                \n",
       "\n",
       "                                                                              \n",
       "_____⎞       ⎛                               _________________________________\n",
       "   2 ⎟       ⎜                              ╱   2                             \n",
       "t_s  ⎠   t_s⋅⎝Bᵢ + Sᵢ - mᵢ⋅t_b - mᵢ⋅t_s + ╲╱  Bᵢ  + 2⋅Bᵢ⋅Sᵢ + 2⋅Bᵢ⋅mᵢ⋅t_b + 2⋅\n",
       "────── - ─────────────────────────────────────────────────────────────────────\n",
       "                                                                              \n",
       "\n",
       "                                                                              \n",
       "______________________________________________________________________________\n",
       "              2                                 2    2       2             2  \n",
       "Bᵢ⋅mᵢ⋅t_s + Sᵢ  - 2⋅Sᵢ⋅mᵢ⋅t_b - 2⋅Sᵢ⋅mᵢ⋅t_s + mᵢ ⋅t_b  + 2⋅mᵢ ⋅t_b⋅t_s + mᵢ ⋅t\n",
       "──────────────────────────────────────────────────────────────────────────────\n",
       "2⋅(t_b + t_s)                                                                 \n",
       "\n",
       "           ⎛                                                                  \n",
       "____⎞      ⎜      ⎛    ⎛                                    __________________\n",
       "  2 ⎟      ⎜      ⎜    ⎜                                   ╱   2              \n",
       "_s  ⎠      ⎜   Bᵢ ⎜    ⎜     Bᵢ + Sᵢ - mᵢ⋅t_b - mᵢ⋅t_s + ╲╱  Bᵢ  + 2⋅Bᵢ⋅Sᵢ + 2\n",
       "───── + log⎜t_b  ⋅⎜t_s⋅⎜mᵢ + ─────────────────────────────────────────────────\n",
       "           ⎝      ⎝    ⎝                                                      \n",
       "\n",
       "                                                                              \n",
       "______________________________________________________________________________\n",
       "                             2                                 2    2       2 \n",
       "⋅Bᵢ⋅mᵢ⋅t_b + 2⋅Bᵢ⋅mᵢ⋅t_s + Sᵢ  - 2⋅Sᵢ⋅mᵢ⋅t_b - 2⋅Sᵢ⋅mᵢ⋅t_s + mᵢ ⋅t_b  + 2⋅mᵢ ⋅\n",
       "──────────────────────────────────────────────────────────────────────────────\n",
       "                 2⋅(t_b + t_s)                                                \n",
       "\n",
       "                     Sᵢ                                                       \n",
       "___________________⎞⎞   ⎛                               ______________________\n",
       "            2    2 ⎟⎟   ⎜                              ╱   2                  \n",
       "t_b⋅t_s + mᵢ ⋅t_s  ⎟⎟   ⎜Bᵢ + Sᵢ - mᵢ⋅t_b - mᵢ⋅t_s + ╲╱  Bᵢ  + 2⋅Bᵢ⋅Sᵢ + 2⋅Bᵢ⋅\n",
       "───────────────────⎟⎟  ⋅⎜─────────────────────────────────────────────────────\n",
       "                   ⎠⎠   ⎝                                                     \n",
       "\n",
       "                                                                              \n",
       "______________________________________________________________________________\n",
       "                         2                                 2    2       2     \n",
       "mᵢ⋅t_b + 2⋅Bᵢ⋅mᵢ⋅t_s + Sᵢ  - 2⋅Sᵢ⋅mᵢ⋅t_b - 2⋅Sᵢ⋅mᵢ⋅t_s + mᵢ ⋅t_b  + 2⋅mᵢ ⋅t_b⋅\n",
       "──────────────────────────────────────────────────────────────────────────────\n",
       "             2⋅(t_b + t_s)                                                    \n",
       "\n",
       "                Bᵢ⎞                      \n",
       "_______________⎞  ⎟                      \n",
       "        2    2 ⎟  ⎟                      \n",
       "t_s + mᵢ ⋅t_s  ⎟  ⎟                      \n",
       "───────────────⎟  ⎟ - log(Bᵢ!) - log(Sᵢ!)\n",
       "               ⎠  ⎠                      "
      ]
     },
     "execution_count": 8,
     "metadata": {},
     "output_type": "execute_result"
    }
   ],
   "source": [
    "L.subs(bi, bi_mle)"
   ]
  },
  {
   "cell_type": "markdown",
   "metadata": {},
   "source": [
    "Instead, we will simply compute the numerical value for $b_i$ first and then plug that into the log likelihood."
   ]
  },
  {
   "cell_type": "markdown",
   "metadata": {},
   "source": [
    "> All the code used in the following is implemented in the last cell of this notebook. Execute that first if you are running the notebook interactively."
   ]
  },
  {
   "cell_type": "markdown",
   "metadata": {},
   "source": [
    "## Bias in CSTAT"
   ]
  },
  {
   "cell_type": "markdown",
   "metadata": {},
   "source": [
    "Let's now test the formula.\n",
    "\n",
    "In order to avoid unnecessary complications, we consider a very simple case where we have a source with a constant spectrum and a background that is constant as well. We also assume an exposure of 1 second for both the source and the background spectrum and an ideal instrument (no need to convolve by the effective area). This allows us to focus on the problem at hand, instead of the details of an X-ray or gamma-ray analysis.\n",
    "\n",
    "In a real situation we do not know the true models. We will assume a constant for the source, and we will use the CSTAT trick for the background (i.e., a stepwise model with $N$ parameters free to vary independently).\n",
    "\n",
    "Let's simulate a dataset and fit it using CSTAT. This is achieved with my `fit_one_realization` function:"
   ]
  },
  {
   "cell_type": "code",
   "execution_count": 9,
   "metadata": {
    "collapsed": false,
    "deletable": true,
    "editable": true
   },
   "outputs": [
    {
     "name": "stdout",
     "output_type": "stream",
     "text": [
      "Reconstructed value: 32.35\n"
     ]
    },
    {
     "data": {
      "image/png": "[encoded data removed]",
      "text/plain": [
       "<matplotlib.figure.Figure at 0x7f45f77bcfd0>"
      ]
     },
     "metadata": {},
     "output_type": "display_data"
    }
   ],
   "source": [
    "source_rate = 30.0\n",
    "background_rate = 50.0\n",
    "number_of_bins = 10\n",
    "# This is to guarantee repeatibility\n",
    "random_seed = 0\n",
    "\n",
    "res = fit_one_realization(random_seed, number_of_bins, \n",
    "                          source_rate, background_rate, \n",
    "                          plot=True)\n",
    "print(\"Reconstructed value: %.2f\" % res)"
   ]
  },
  {
   "cell_type": "markdown",
   "metadata": {},
   "source": [
    "The method worked. Now, let's observe carefully the plot and understand exactly what is happening.\n",
    "\n",
    "The red data points are the counts in the background spectrum, and the red model is the maximum variance model used by CSTAT, where every $b_i$ is given by the solution we called `bi_mle` above. As you can see, even though the true model is a constant, the background model jumps up and down quite a lot. This is the effect of considering as many parameters as there are bins. \n",
    "\n",
    "The total model is given by the source model (a constant) plus the background model. This is why the total model is not a flat line anymore.\n",
    "\n",
    "Now let's consider the point around 5 keV. There is an upward fluctuation in the total model (remember that the true model is actually a constant at 30 + 50 = 80 counts per keV). Thus, in the background model, the parameter $b_i$ for that particular bin is pulled upward. At the opposite, around 7.5 keV there is a underflucutation in the total model, and the background model is pulled downward.  "
   ]
  },
  {
   "cell_type": "markdown",
   "metadata": {},
   "source": [
    "The problems start showing up when the number of bins in the spectra increases so that many of them are either 0 or 1. I will show this by performing many simulations (16000) of the same situation (source rate = 30 counts/keV, background rate = 50 counts/keV) but varying the number of bins in the spectrum:"
   ]
  },
  {
   "cell_type": "code",
   "execution_count": 10,
   "metadata": {
    "collapsed": false,
    "deletable": true,
    "editable": true
   },
   "outputs": [
    {
     "name": "stderr",
     "output_type": "stream",
     "text": [
      "16000 of 16000 completed\n",
      "16000 of 16000 completed\n",
      "16000 of 16000 completed\n",
      "16000 of 16000 completed\n",
      "16000 of 16000 completed\n",
      "16000 of 16000 completed\n"
     ]
    },
    {
     "data": {
      "image/png": "[encoded data removed]",
      "text/plain": [
       "<matplotlib.figure.Figure at 0x7f45f6c50150>"
      ]
     },
     "metadata": {},
     "output_type": "display_data"
    }
   ],
   "source": [
    "# Let's make a bunch of simulations\n",
    "\n",
    "source_rate = 30.0\n",
    "background_rate = 50.0\n",
    "\n",
    "number_of_bins = [50, 100, 200, 400, 500, 1600]\n",
    "n_realizations = 16000\n",
    "\n",
    "fig, subs = plt.subplots(3,2, figsize=(8, 8))\n",
    "\n",
    "for i, (sub, n_bins) in enumerate(zip(subs.flatten(), \n",
    "                                      number_of_bins)):\n",
    "\n",
    "    # No rebinning\n",
    "    res = fit_many_realizations(n_realizations, n_bins, \n",
    "                                source_rate, \n",
    "                                background_rate, \n",
    "                                fit_one_realization,\n",
    "                                rebin=0.0)\n",
    "        \n",
    "    _ = sub.hist(res, 80)\n",
    "        \n",
    "    sub.set_xlabel(\"Rate\")\n",
    "    \n",
    "    if (i+1) % 2 != 0:\n",
    "        \n",
    "        sub.set_ylabel(\"# of realizations\")\n",
    "\n",
    "fig.tight_layout()"
   ]
  },
  {
   "cell_type": "markdown",
   "metadata": {},
   "source": [
    "We can clearly see that while in the first two cases in the upper panels the method returns an estimate for the rate that is centered on the true value (30), for the case in the second rows there is a clear bias towards larger rates. Moreover, when the number of bins increases even more (third row) we have a bias and a lot of very wrong results (look at the left tail of the distribution on the left) until we get to the point where all fits return an estimated rate of zero (lower right panel)."
   ]
  },
  {
   "cell_type": "markdown",
   "metadata": {},
   "source": [
    "This problem have to do with two things: the number of parameters in the background model for the last two cases is really large compared to the information contained in the data. Essentially we are modeling a constant with 500 and 1600 independent parameters! \n",
    "\n",
    "Moreover, when the counts in the background $B_i$ are zero, then $b_i$ is zero. Indeed we have:"
   ]
  },
  {
   "cell_type": "code",
   "execution_count": 11,
   "metadata": {
    "collapsed": false
   },
   "outputs": [
    {
     "data": {
      "image/png": "[encoded data removed]",
      "text/latex": [
       "$$\\frac{1}{2 \\left(t_{b} + t_{s}\\right)} \\left(S_{i} - m_{i} t_{b} - m_{i} t_{s} + \\sqrt{S_{i}^{2} - 2 S_{i} m_{i} t_{b} - 2 S_{i} m_{i} t_{s} + m_{i}^{2} t_{b}^{2} + 2 m_{i}^{2} t_{b} t_{s} + m_{i}^{2} t_{s}^{2}}\\right)$$"
      ],
      "text/plain": [
       "                          ____________________________________________________\n",
       "                         ╱   2                                 2    2       2 \n",
       "Sᵢ - mᵢ⋅t_b - mᵢ⋅t_s + ╲╱  Sᵢ  - 2⋅Sᵢ⋅mᵢ⋅t_b - 2⋅Sᵢ⋅mᵢ⋅t_s + mᵢ ⋅t_b  + 2⋅mᵢ ⋅\n",
       "──────────────────────────────────────────────────────────────────────────────\n",
       "                                          2⋅(t_b + t_s)                       \n",
       "\n",
       "___________________\n",
       "            2    2 \n",
       "t_b⋅t_s + mᵢ ⋅t_s  \n",
       "───────────────────\n",
       "                   "
      ]
     },
     "execution_count": 11,
     "metadata": {},
     "output_type": "execute_result"
    }
   ],
   "source": [
    "bi_mle.subs(Bi, 0).simplify()"
   ]
  },
  {
   "cell_type": "markdown",
   "metadata": {},
   "source": [
    "Even though sympy is not smart enough to recognize it, the expression in the square root is actually equal to $(m_i t_b + m_i t_s - S_i)^2$:"
   ]
  },
  {
   "cell_type": "code",
   "execution_count": 12,
   "metadata": {
    "collapsed": false
   },
   "outputs": [
    {
     "data": {
      "image/png": "[encoded data removed]",
      "text/latex": [
       "$$S_{i}^{2} - 2 S_{i} m_{i} t_{b} - 2 S_{i} m_{i} t_{s} + m_{i}^{2} t_{b}^{2} + 2 m_{i}^{2} t_{b} t_{s} + m_{i}^{2} t_{s}^{2}$$"
      ],
      "text/plain": [
       "  2                                 2    2       2             2    2\n",
       "Sᵢ  - 2⋅Sᵢ⋅mᵢ⋅t_b - 2⋅Sᵢ⋅mᵢ⋅t_s + mᵢ ⋅t_b  + 2⋅mᵢ ⋅t_b⋅t_s + mᵢ ⋅t_s "
      ]
     },
     "execution_count": 12,
     "metadata": {},
     "output_type": "execute_result"
    }
   ],
   "source": [
    "((mi * tb + mi * ts - Si)**2).expand()"
   ]
  },
  {
   "cell_type": "markdown",
   "metadata": {},
   "source": [
    "so if $B_{i}=0$ then $b_i=0$ independently of $m_i$ and $S_i$. This is unphysical (the background cannot be zero, and also violates the assumptions we started from because the rate parameter of a Poisson distribution cannot be zero). Essentially, there is little to no information about the background when this happens and the formulation of the problem breaks down. As we have just seen, this introduces a bias which becomes more and more severe as the number of bins where this happens increase.\n",
    "\n",
    "If this is the case, then a simple countermeasure is to rebin the spectra so that there is at least some background counts in each bin. Let's see if this solves the problem:"
   ]
  },
  {
   "cell_type": "code",
   "execution_count": 13,
   "metadata": {
    "collapsed": false
   },
   "outputs": [
    {
     "name": "stderr",
     "output_type": "stream",
     "text": [
      "16000 of 16000 completed\n",
      "16000 of 16000 completed\n",
      "16000 of 16000 completed\n",
      "16000 of 16000 completed\n",
      "16000 of 16000 completed\n",
      "16000 of 16000 completed\n",
      "16000 of 16000 completed\n",
      "16000 of 16000 completed\n",
      "16000 of 16000 completed\n",
      "16000 of 16000 completed\n",
      "16000 of 16000 completed\n",
      "16000 of 16000 completed\n",
      "16000 of 16000 completed\n",
      "16000 of 16000 completed\n",
      "16000 of 16000 completed\n",
      "16000 of 16000 completed\n",
      "16000 of 16000 completed\n",
      "16000 of 16000 completed\n"
     ]
    },
    {
     "data": {
      "image/png": "[encoded data removed]",
      "text/plain": [
       "<matplotlib.figure.Figure at 0x7f45f0adbb50>"
      ]
     },
     "metadata": {},
     "output_type": "display_data"
    }
   ],
   "source": [
    "fig, subs = plt.subplots(3,2, figsize=(8, 8), sharex=True)\n",
    "\n",
    "for i, (sub, n_bins) in enumerate(zip(subs.flatten(), \n",
    "                                      number_of_bins)):\n",
    "    \n",
    "    # min counts in background = 1\n",
    "    res1 = fit_many_realizations(n_realizations, n_bins, \n",
    "                                 source_rate, \n",
    "                                 background_rate, \n",
    "                                 fit_one_realization,\n",
    "                                 rebin=1.0)\n",
    "    \n",
    "    res3 = fit_many_realizations(n_realizations, n_bins, \n",
    "                                 source_rate, \n",
    "                                 background_rate, \n",
    "                                 fit_one_realization,\n",
    "                                 rebin=3.0)\n",
    "    \n",
    "    res5 = fit_many_realizations(n_realizations, n_bins, \n",
    "                                 source_rate, \n",
    "                                 background_rate, \n",
    "                                 fit_one_realization,\n",
    "                                 rebin=5.0)\n",
    "        \n",
    "    _ = sub.hist(res1, 80, label='Rebin: 1')\n",
    "    _ = sub.hist(res3, 80, label='Rebin: 3', alpha=0.5)\n",
    "    _ = sub.hist(res5, 80, label='Rebin: 5', alpha=0.5)\n",
    "        \n",
    "    sub.set_xlabel(\"Rate\")\n",
    "    \n",
    "    if (i+1) % 2 != 0:\n",
    "        \n",
    "        sub.set_ylabel(\"Fraction of realizations\")\n",
    "\n",
    "#_ = subs[-1][-1].set_xlim([10, 50])\n",
    "_ = subs[-1][-1].set_ylim([0, 650])\n",
    "\n",
    "_ = subs[0][0].legend(loc=0)"
   ]
  },
  {
   "cell_type": "markdown",
   "metadata": {},
   "source": [
    "It looks like rebinning with 1 counts correct in large part but not completely the problem, but using 3 or 5 is much better.\n",
    "\n",
    "> NOTE: here we are dealing with a simple illustrative problem. In a real situation, you should be a little conservative with the number of counts you require for each bin in the background."
   ]
  },
  {
   "cell_type": "markdown",
   "metadata": {},
   "source": [
    "# An alternative: model the background directly\n",
    "\n",
    "An even better solution to the problem is to avoid the use of the profile likelihood alltogether, and instead model simultaneously the background and the data with two explicit models (one for the source, one for the background).\n",
    "\n",
    "We can then use the normal Poisson log-likelihood (aka Cash statistic) for both separately and then sum them and maximize the sum varying the parameters of both the source and the background model.\n",
    "\n",
    "This has many advantages beyond solving the problem with the bias outlined above:\n",
    "\n",
    "1. We use a much better trade off between variance and bias in the background\n",
    "2. When computing errors on parameters we can take into account the covariance between parameters in the background and in the source model\n",
    "3. The background model is explicit and can be tested\n",
    "\n",
    "For the simple example treated here, this is very straightforward. I coded this in the `fit_one_realization_no_profiling` function, let's see how it behaves:"
   ]
  },
  {
   "cell_type": "code",
   "execution_count": 15,
   "metadata": {
    "collapsed": false
   },
   "outputs": [
    {
     "name": "stderr",
     "output_type": "stream",
     "text": [
      "16000 of 16000 completed\n",
      "16000 of 16000 completed\n",
      "16000 of 16000 completed\n",
      "16000 of 16000 completed\n",
      "16000 of 16000 completed\n",
      "16000 of 16000 completed\n"
     ]
    },
    {
     "data": {
      "image/png": "[encoded data removed]",
      "text/plain": [
       "<matplotlib.figure.Figure at 0x7f45f6abdb90>"
      ]
     },
     "metadata": {},
     "output_type": "display_data"
    }
   ],
   "source": [
    "fig, subs = plt.subplots(3,2, figsize=(8, 8), sharex=True, sharey=True)\n",
    "\n",
    "for i, (sub, n_bins) in enumerate(zip(subs.flatten(), \n",
    "                                      number_of_bins)):\n",
    "    \n",
    "    # Fit\n",
    "    resf = fit_many_realizations(n_realizations, n_bins, \n",
    "                                 source_rate, \n",
    "                                 background_rate, \n",
    "                                 fit_one_realization_no_profiling,\n",
    "                                 rebin=0.0)\n",
    "    \n",
    "    _ = sub.hist(resf, 60, label='Bkg fit')\n",
    "\n",
    "        \n",
    "    sub.set_xlabel(\"Rate\")\n",
    "    \n",
    "    if (i+1) % 2 != 0:\n",
    "        \n",
    "        sub.set_ylabel(\"# of realizations\")\n",
    "\n",
    "_ = subs[0][0].legend(loc=0)"
   ]
  },
  {
   "cell_type": "markdown",
   "metadata": {
    "collapsed": true,
    "deletable": true,
    "editable": true
   },
   "source": [
    "# Code"
   ]
  },
  {
   "cell_type": "code",
   "execution_count": 1,
   "metadata": {
    "collapsed": true
   },
   "outputs": [],
   "source": [
    "import numpy as np\n",
    "import scipy.optimize\n",
    "import matplotlib.pyplot as plt\n",
    "import multiprocessing\n",
    "import functools\n",
    "import sys\n",
    "%matplotlib inline\n",
    "from numba import jit\n",
    "\n",
    "\n",
    "def generate_data(n_bins, src_rate, bkg_rate):\n",
    "    start = 1.0  # keV\n",
    "    stop = 10.0  # keV\n",
    "\n",
    "    dE = (stop - start) / n_bins\n",
    "\n",
    "    edges = np.linspace(start, stop, n_bins + 1)\n",
    "\n",
    "    energy_centers = (edges[1:] + edges[:-1]) / 2.0\n",
    "\n",
    "    observation = np.random.poisson((src_rate + bkg_rate) * dE, n_bins).astype(float)\n",
    "\n",
    "    background = np.random.poisson(bkg_rate * dE, n_bins).astype(float)\n",
    "\n",
    "    return energy_centers, dE, observation, background\n",
    "\n",
    "\n",
    "# This is a translation in python of the method\n",
    "# StdCstat::specificPerformB in CstatVariants.cxx\n",
    "# from the XSpec source code\n",
    "@jit(nopython=True)\n",
    "def cstat_xspec(S, B, expos_ratio, y, rebin=0.0):\n",
    "\n",
    "    assert len(S) == len(B)\n",
    "    assert len(y) == len(S)\n",
    "\n",
    "    if rebin > 0.0:\n",
    "\n",
    "        newS = np.zeros_like(S)\n",
    "        newB = np.zeros_like(B)\n",
    "        newy = np.zeros_like(y)\n",
    "\n",
    "        m = 0\n",
    "        j = 0\n",
    "        k = 0\n",
    "\n",
    "        for i, bi in enumerate(B):\n",
    "\n",
    "            m += bi\n",
    "\n",
    "            if i == len(B) - 1:\n",
    "\n",
    "                if m >= rebin:\n",
    "\n",
    "                    newS[k] = np.sum(S[j: i + 1])\n",
    "                    newB[k] = np.sum(B[j: i + 1])\n",
    "                    newy[k] = np.sum(y[j: i + 1])\n",
    "\n",
    "                    k += 1\n",
    "\n",
    "                else:\n",
    "\n",
    "                    # We reached the end but we don't have\n",
    "                    # enough counts in the last bin. Let's\n",
    "                    # incorporate these in the last bin\n",
    "                    # of the rebinned one\n",
    "                    newS[k - 1] += np.sum(S[j:])\n",
    "                    newB[k - 1] += np.sum(B[j:])\n",
    "                    newy[k - 1] += np.sum(y[j:])\n",
    "\n",
    "                break\n",
    "\n",
    "            if m >= rebin:\n",
    "                newS[k] = np.sum(S[j: i + 1])\n",
    "                newB[k] = np.sum(B[j: i + 1])\n",
    "                newy[k] = np.sum(y[j: i + 1])\n",
    "\n",
    "                m = 0\n",
    "                j = i + 1\n",
    "                k += 1\n",
    "\n",
    "        assert np.sum(S) == np.sum(newS[:k]), \"Sum of S is different\"\n",
    "        assert np.sum(B) == np.sum(newB[:k]), \"Sum of B is different\"\n",
    "        assert abs(np.sum(newy[:k]) - np.sum(y)) < 0.01, \"Sum of y is different\"\n",
    "\n",
    "        S = newS[:k]\n",
    "        B = newB[:k]\n",
    "        y = newy[:k]\n",
    "\n",
    "        assert np.all(B >= rebin)\n",
    "\n",
    "    tsi = 1.0\n",
    "    tbi = 1.0\n",
    "\n",
    "    FLOOR = 1.0e-5\n",
    "    stat = 0\n",
    "\n",
    "    F = np.zeros_like(S)\n",
    "\n",
    "    #   for (size_t i=0; i<N; i++) {\n",
    "    for i in range(len(S)):\n",
    "        #       Real si = sbin[i];\n",
    "        si = S[i]\n",
    "        #       Real bi = bbin[i];\n",
    "        bi = B[i]\n",
    "\n",
    "        # NOTE: for simplicity tsi and tbi are 1 for all bins\n",
    "        #       Real tsi = tsbin[i];\n",
    "        #       Real tbi = tbbin[i];\n",
    "        # tsi = ts[i]\n",
    "        # tbi = tb[i]\n",
    "\n",
    "        #       Real yi = ybin[i];\n",
    "        yi = y[i]\n",
    "\n",
    "        #       Real ti = tsi + tbi;\n",
    "        ti = tsi + tbi\n",
    "\n",
    "        #       yi = std::max(yi, FLOOR/tsi);\n",
    "        yi = max(yi, FLOOR / tsi)\n",
    "\n",
    "        #     if (si == 0.0) {\n",
    "        if si == 0.0:\n",
    "\n",
    "            stat += tsi * yi - bi * np.log(tbi / ti)\n",
    "        #       } else {\n",
    "        else:\n",
    "            #           if (bi == 0.0) {\n",
    "            if bi == 0.0:\n",
    "                # \t  stat += tsi*yi + si*(std::log(si)-std::log(tsi*yi)-1);\n",
    "                # \t}\n",
    "                #               if ( yi <= si/ti ) {\n",
    "                if yi <= si / ti:\n",
    "                    #                   stat += -tbi*yi - si*std::log(tsi/ti);\n",
    "                    stat += -tbi * yi - si * np.log(tsi / ti)\n",
    "                #               } else {\n",
    "                else:\n",
    "                    #                   stat += tsi*yi + si*(std::log(si)-std::log(tsi*yi)-1);\n",
    "                    stat += tsi * yi + si * (np.log(si) - np.log(tsi * yi) - 1)\n",
    "            else:\n",
    "\n",
    "                #               // now the main case where both data and background !=0\n",
    "                #               // Solve quadratic equation for f. Use the positive root to ensure\n",
    "                #               // that f > 0.\n",
    "                #               Real a = ti;\n",
    "                a = ti\n",
    "                #               Real b = ti*yi - si - bi;\n",
    "                b = ti * yi - si - bi\n",
    "                #               Real c = -bi*yi;\n",
    "                c = -bi * yi\n",
    "                #               Real d = sqrt(b*b - 4.0*a*c);\n",
    "                d = np.sqrt(b * b - 4.0 * a * c)\n",
    "                #               if ( b >= 0.0 ) {\n",
    "                if b >= 0:\n",
    "                    #                   f = -2*c / (b + d);\n",
    "                    f = -2 * c / (b + d)\n",
    "                #               } else {\n",
    "                else:\n",
    "                    #                   f = -(b - d) / (2*a);\n",
    "                    f = -(b - d) / (2 * a)\n",
    "                # This is to keep track of the profiled out background parameter\n",
    "                F[i] = f\n",
    "\n",
    "                #               stat += tsi*yi + ti*f - si*std::log(tsi*yi+tsi*f)\n",
    "                #                       - bi*std::log(tbi*f) - si*(1-std::log(si))\n",
    "                #                       - bi*(1-std::log(bi));\n",
    "                stat += tsi * yi + ti * f - si * np.log(tsi * yi + tsi * f) \\\n",
    "                        - bi * np.log(tbi * f) - si * (1 - np.log(si)) \\\n",
    "                        - bi * (1 - np.log(bi))\n",
    "\n",
    "    return stat, F\n",
    "\n",
    "\n",
    "# Wrapper than can be used in scipy.minimize\n",
    "def cstat_wrapper(rate, obs, bkg, dE, rebin, full=False, cstat_function=cstat_xspec):\n",
    "    # Only one parameter, the rate\n",
    "\n",
    "    # Compute expected model counts\n",
    "    model_counts = np.repeat(rate * dE, obs.shape[0])\n",
    "\n",
    "    if full:\n",
    "\n",
    "        return cstat_function(obs, bkg, 1.0,\n",
    "                              model_counts, rebin)\n",
    "\n",
    "    else:\n",
    "\n",
    "        return cstat_function(obs, bkg, 1.0,\n",
    "                              model_counts, rebin)[0]\n",
    "\n",
    "\n",
    "def fit(obs, bkg, dE, x0, rebin=0.0):\n",
    "\n",
    "    results = scipy.optimize.minimize_scalar(cstat_wrapper, bounds=(0.0, x0 * 10.0),\n",
    "                                             args=(obs, bkg, dE, rebin),\n",
    "                                             method='Bounded')\n",
    "\n",
    "    if not results.success:\n",
    "        raise RuntimeError(\"Fit failed with reason %s\" % results.message)\n",
    "\n",
    "    return results.x\n",
    "\n",
    "\n",
    "def fit_one_realization(seed,\n",
    "                        n_bins,\n",
    "                        true_src_rate,\n",
    "                        true_bkg_rate,\n",
    "                        plot=False,\n",
    "                        rebin=0.0):\n",
    "\n",
    "    np.random.seed(seed)\n",
    "\n",
    "    energies, dE, obs, bkg = generate_data(n_bins,\n",
    "                                           true_src_rate,\n",
    "                                           true_bkg_rate)\n",
    "\n",
    "    # print(np.average(obs - bkg) / dE)\n",
    "\n",
    "    # We start the fit from very close to the true value so that if the fit\n",
    "    # converges somewhere else it is something intrinsic to the\n",
    "    # likelihood function, and not a minimization problem\n",
    "    mle_est = fit(obs, bkg, dE, true_src_rate, rebin=rebin)\n",
    "\n",
    "    if plot:\n",
    "\n",
    "        # Get the values for the nuisance parameters\n",
    "        _, bkg_nuisance = cstat_wrapper(mle_est, obs, bkg, dE,\n",
    "                                        rebin=rebin,\n",
    "                                        full=True)\n",
    "\n",
    "        _ = plt.errorbar(energies, obs, xerr=dE / 2.0,\n",
    "                         yerr=np.sqrt(obs), fmt='.')\n",
    "\n",
    "        _ = plt.errorbar(energies, bkg, xerr=dE / 2.0,\n",
    "                         yerr=np.sqrt(bkg),\n",
    "                         color='red', alpha=0.5, fmt='.')\n",
    "\n",
    "        if rebin == 0:\n",
    "            \n",
    "            _ = plt.step(energies, bkg_nuisance,\n",
    "                         color='red', where='mid',\n",
    "                         label='Background model')\n",
    "\n",
    "            _ = plt.step(energies,\n",
    "                         mle_est * dE + bkg_nuisance,\n",
    "                         color='blue', where='mid',\n",
    "                         label='Total model')\n",
    "            \n",
    "            _ = plt.legend(loc=0)\n",
    "\n",
    "        _ = plt.xlabel(\"Energy (keV)\")\n",
    "        _ = plt.ylabel(\"Counts per bin\")\n",
    "        \n",
    "\n",
    "    return mle_est\n",
    "\n",
    "\n",
    "# Wrapper than can be used in scipy.minimize\n",
    "# This implements the cstat when the background model is\n",
    "# a constant (no profiling)\n",
    "def cstat_no_profiling(parameters, obs, bkg, dE, rebin=None, full=False):\n",
    "    src_rate, bkg_rate = parameters\n",
    "\n",
    "    # Assume exposure=1 for simplicity\n",
    "    exposure = 1.0\n",
    "\n",
    "    # Compute expected model counts\n",
    "    src_model_counts = np.repeat((src_rate + bkg_rate) * dE * exposure, obs.shape[0])\n",
    "    bkg_model_counts = np.repeat(bkg_rate * dE * exposure, obs.shape[0])\n",
    "\n",
    "    cstat_src = -np.sum(obs * np.log(src_model_counts) - src_model_counts)\n",
    "    cstat_bkg = -np.sum(bkg * np.log(bkg_model_counts) - bkg_model_counts)\n",
    "\n",
    "    cstat = cstat_src + cstat_bkg\n",
    "\n",
    "    if full:\n",
    "\n",
    "        return cstat, bkg_model_counts\n",
    "\n",
    "    else:\n",
    "\n",
    "        return cstat\n",
    "\n",
    "\n",
    "def fit_no_profiling(obs, bkg, dE, x0):\n",
    "    results = scipy.optimize.minimize(cstat_no_profiling, x0,\n",
    "                                      args=(obs, bkg, dE),\n",
    "                                      tol=1e-3)\n",
    "\n",
    "    if not results.success:\n",
    "        raise RuntimeError(\"Fit failed with reason %s\" % results.message)\n",
    "\n",
    "    return results.x\n",
    "\n",
    "\n",
    "def fit_one_realization_no_profiling(seed,\n",
    "                                     n_bins,\n",
    "                                     true_src_rate,\n",
    "                                     true_bkg_rate,\n",
    "                                     plot=False,\n",
    "                                     rebin=None):\n",
    "    np.random.seed(seed)\n",
    "\n",
    "    energies, dE, obs, bkg = generate_data(n_bins,\n",
    "                                           true_src_rate,\n",
    "                                           true_bkg_rate)\n",
    "\n",
    "    # print(np.average(obs - bkg) / dE)\n",
    "\n",
    "    # We start the fit from very close to the true value so that if the fit\n",
    "    # converges somewhere else it is something intrinsic to the\n",
    "    # likelihood function, and not a minimization problem\n",
    "    mle_est = fit_no_profiling(obs, bkg, dE, [true_src_rate,\n",
    "                                              true_bkg_rate])\n",
    "\n",
    "    exposure = 1.0\n",
    "\n",
    "    if plot:\n",
    "        _ = plt.errorbar(energies, obs, xerr=dE / 2.0,\n",
    "                         yerr=np.sqrt(obs), fmt='.')\n",
    "\n",
    "        _ = plt.axhline((mle_est[0] + mle_est[1]) * dE * exposure,\n",
    "                        color='blue',\n",
    "                        label='Total model')\n",
    "\n",
    "        _ = plt.errorbar(energies, bkg, xerr=dE / 2.0,\n",
    "                         yerr=np.sqrt(bkg),\n",
    "                         color='red', alpha=0.5, fmt='.')\n",
    "\n",
    "        _ = plt.axhline(mle_est[1] * dE * exposure,\n",
    "                        color='red',\n",
    "                        label='Background model')\n",
    "\n",
    "        _ = plt.xlabel(\"Energy (keV)\")\n",
    "        _ = plt.ylabel(\"Counts per bin\")\n",
    "        _ = plt.legend(loc=0)\n",
    "\n",
    "    return mle_est[0]\n",
    "\n",
    "\n",
    "def fit_many_realizations(n_realizations,\n",
    "                          n_bins,\n",
    "                          true_src_rate,\n",
    "                          true_bkg_rate,\n",
    "                          fit_function=fit_one_realization,\n",
    "                          rebin=None,\n",
    "                          parallel=True):\n",
    "\n",
    "    mle_estimates = np.empty(n_realizations)\n",
    "\n",
    "    worker = functools.partial(fit_function,\n",
    "                               n_bins=n_bins,\n",
    "                               true_src_rate=true_src_rate,\n",
    "                               true_bkg_rate=true_bkg_rate,\n",
    "                               plot=False,\n",
    "                               rebin=rebin)\n",
    "    if parallel:\n",
    "\n",
    "        pool = multiprocessing.Pool()\n",
    "\n",
    "        try:\n",
    "\n",
    "            for i, res in enumerate(pool.imap(worker,\n",
    "                                              range(n_realizations),\n",
    "                                              chunksize=1000)):\n",
    "                mle_estimates[i] = res\n",
    "\n",
    "                sys.stderr.write(\"\\r%i of %i completed\" % (i + 1, n_realizations))\n",
    "\n",
    "        except:\n",
    "\n",
    "            raise\n",
    "\n",
    "        finally:\n",
    "\n",
    "            pool.close()\n",
    "            pool.join()\n",
    "\n",
    "        sys.stderr.write(\"\\n\")\n",
    "\n",
    "    else:\n",
    "\n",
    "        # This is for testing purposes, avoiding the parallel execution\n",
    "\n",
    "        mle_estimates = map(worker, range(n_realizations))\n",
    "\n",
    "    return mle_estimates\n"
   ]
  },
  {
   "cell_type": "code",
   "execution_count": null,
   "metadata": {
    "collapsed": true
   },
   "outputs": [],
   "source": []
  }
 ],
 "metadata": {
  "kernelspec": {
   "display_name": "Python 2",
   "language": "python",
   "name": "python2"
  },
  "language_info": {
   "codemirror_mode": {
    "name": "ipython",
    "version": 2
   },
   "file_extension": ".py",
   "mimetype": "text/x-python",
   "name": "python",
   "nbconvert_exporter": "python",
   "pygments_lexer": "ipython2",
   "version": "2.7.12"
  }
 },
 "nbformat": 4,
 "nbformat_minor": 2
}
